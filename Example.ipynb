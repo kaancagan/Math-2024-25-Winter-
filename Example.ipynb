{
  "nbformat": 4,
  "nbformat_minor": 0,
  "metadata": {
    "colab": {
      "provenance": [],
      "include_colab_link": true
    },
    "kernelspec": {
      "name": "python3",
      "display_name": "Python 3"
    },
    "language_info": {
      "name": "python"
    }
  },
  "cells": [
    {
      "cell_type": "markdown",
      "metadata": {
        "id": "view-in-github",
        "colab_type": "text"
      },
      "source": [
        "<a href=\"https://colab.research.google.com/github/kaancagan/Math-2024-25-Winter-/blob/main/Example.ipynb\" target=\"_parent\"><img src=\"https://colab.research.google.com/assets/colab-badge.svg\" alt=\"Open In Colab\"/></a>"
      ]
    },
    {
      "cell_type": "markdown",
      "source": [
        "# Line or whatever subject\n",
        "\n",
        "Write notes on your own! In each geometry folder make a separate file. Use ChatGPT to generate notes based on list of topics:\n",
        "\n",
        "\tAnalytical Geometry\n",
        "\n",
        "\tLines\n",
        "\tTypes of line equations in the plane.\n",
        "\tGeneral equation of a line.\n",
        "\tCanonical equation of a line.\n",
        "\tLine equation in intercept form on the coordinate axes.\n",
        "\tLine equation in slope form.\n",
        "\tLine equation passing through a given point in a given direction.\n",
        "\tLine equation passing through two given points.\n",
        "\tRelative positions of lines in the plane.\n",
        "\tIntersection of two lines.\n",
        "\tAngle between two lines.\n",
        "\tConditions for parallelism and perpendicularity of two lines.\n",
        "\n",
        "\tPlanes\n",
        "\tPlanes in space.\n",
        "\tVector equation of a plane.\n",
        "\tGeneral equation of a plane.\n",
        "\tPlane equation passing through three points.\n",
        "\tPlane equation in intercept form on the coordinate axes.\n",
        "\tSpecial cases of plane positioning.\n",
        "\tAngle between two planes.\n",
        "\tConditions for parallelism and perpendicularity of two planes.\n",
        "\tLine in space.\n",
        "\tTypes of line equations in space.\n",
        "\tRelative positions of a line and a plane.\n",
        "\tRelative positions of two lines.\n",
        "\tAngle between a line and a plane.\n",
        "\n",
        "\tSecond-Order Curves\n",
        "\tCanonical equations of the circle, ellipse, hyperbola, and parabola.\n",
        "\tEquations of second-order curves with a shifted center.\n",
        "\tReduction of the general second-order curve equation to canonical form.\n",
        "\n",
        "\tSecond-Order Surfaces\n",
        "\tGeneral equations of the ellipsoid, sphere, and hyperboloid.\n",
        "\tRotational surfaces.\n"
      ],
      "metadata": {
        "id": "SVa9rLOXgzJe"
      }
    },
    {
      "cell_type": "markdown",
      "source": [
        "## Magic formula for ChatGPT\n",
        "\n",
        "**Ask ChatpGPT from OpenAI, Cloude, Full Gemini (don't use Gemini here because it is too small model to handle it):**\n",
        "\n",
        "\n",
        "\n",
        "> Please generate me markdown code academic notes, with plenty of equations (harvard student notes!) for the given list of topics below. As I need it for colab and github make sure you give all equations and math formula using $...$ and $$...$$.\n",
        "\n",
        "List of topics to cover:\n",
        "\n",
        "Types of line equations in the plane.\n",
        "General equation of a line.\n",
        "Canonical equation of a line.\n",
        "Line equation in intercept form on the coordinate axes.\n",
        "Line equation in slope form.\n",
        "Line equation passing through a given point in a given direction.\n",
        "Line equation passing through two given points.\n",
        "Relative positions of lines in the plane.\n",
        "Intersection of two lines.\n",
        "Angle between two lines.\n",
        "Conditions for parallelism and perpendicularity of two lines.\n",
        "\n",
        "\n",
        "\n"
      ],
      "metadata": {
        "id": "5SDlikNRhas0"
      }
    },
    {
      "cell_type": "markdown",
      "source": [
        "### **Analytical Geometry Notes**\n",
        "\n",
        "---\n",
        "\n",
        "#### **Lines in the Plane**\n",
        "1. **Types of Line Equations:**\n",
        "   - General form: \\( Ax + By + C = 0 \\)\n",
        "   - Canonical (parametric) form: \\( \\begin{cases} x = x_1 + at \\\\ y = y_1 + bt \\end{cases} \\)\n",
        "   - Slope-intercept form: \\( y = mx + c \\)\n",
        "   - Intercept form: \\( \\frac{x}{a} + \\frac{y}{b} = 1 \\)\n",
        "\n",
        "2. **General Equation of a Line:**\n",
        "   \\[ Ax + By + C = 0 \\]\n",
        "   - Where \\( A, B, \\) and \\( C \\) are constants.\n",
        "\n",
        "3. **Canonical Equation:**\n",
        "   - \\( \\vec{r} = \\vec{r_0} + t\\vec{d} \\)\n",
        "   - \\( \\vec{r_0} \\): A point on the line, \\( \\vec{d} \\): Direction vector, \\( t \\): Parameter.\n",
        "\n",
        "4. **Intercept Form:**\n",
        "   \\[ \\frac{x}{a} + \\frac{y}{b} = 1 \\]\n",
        "   - \\( a, b \\): Intercepts on \\( x \\)- and \\( y \\)-axes.\n",
        "\n",
        "5. **Slope Form:**\n",
        "   \\[ y = mx + c \\]\n",
        "   - \\( m \\): Slope, \\( c \\): Y-intercept.\n",
        "\n",
        "6. **Line Through a Point in a Given Direction:**\n",
        "   \\[ \\vec{r} = \\vec{r_0} + t\\vec{d} \\]\n",
        "   - Passing through \\( (x_1, y_1) \\), direction vector \\( (a, b) \\):\n",
        "     \\[ \\frac{x - x_1}{a} = \\frac{y - y_1}{b} \\]\n",
        "\n",
        "7. **Line Through Two Points:**\n",
        "   - Points \\( (x_1, y_1) \\) and \\( (x_2, y_2) \\):\n",
        "     \\[ \\frac{y - y_1}{y_2 - y_1} = \\frac{x - x_1}{x_2 - x_1} \\]\n",
        "\n",
        "8. **Relative Positions of Lines:**\n",
        "   - **Intersecting:** Lines meet at a single point.\n",
        "   - **Parallel:** Same slope (\\( m_1 = m_2 \\)).\n",
        "   - **Coincident:** Same equation.\n",
        "   - **Skew:** Not applicable in 2D (only in 3D).\n",
        "\n",
        "9. **Intersection of Two Lines:**\n",
        "   - Solve equations of two lines simultaneously.\n",
        "\n",
        "10. **Angle Between Two Lines:**\n",
        "    \\[ \\tan\\theta = \\left|\\frac{m_2 - m_1}{1 + m_1m_2}\\right| \\]\n",
        "\n",
        "11. **Conditions for Parallelism and Perpendicularity:**\n",
        "    - Parallel: \\( \\frac{A_1}{A_2} = \\frac{B_1}{B_2} \\)\n",
        "    - Perpendicular: \\( A_1A_2 + B_1B_2 = 0 \\)\n",
        "\n",
        "---\n",
        "\n",
        "#### **Planes in Space**\n",
        "1. **Vector Equation:**\n",
        "   \\[ \\vec{r} \\cdot \\vec{n} = d \\]\n",
        "   - \\( \\vec{n} \\): Normal vector, \\( d \\): Distance from origin.\n",
        "\n",
        "2. **General Equation:**\n",
        "   \\[ Ax + By + Cz + D = 0 \\]\n",
        "\n",
        "3. **Plane Through Three Points:**\n",
        "   - Points \\( A(x_1, y_1, z_1), B(x_2, y_2, z_2), C(x_3, y_3, z_3) \\):\n",
        "     \\[ \\begin{vmatrix} x - x_1 & y - y_1 & z - z_1 \\\\ x_2 - x_1 & y_2 - y_1 & z_2 - z_1 \\\\ x_3 - x_1 & y_3 - y_1 & z_3 - z_1 \\end{vmatrix} = 0 \\]\n",
        "\n",
        "4. **Intercept Form:**\n",
        "   \\[ \\frac{x}{a} + \\frac{y}{b} + \\frac{z}{c} = 1 \\]\n",
        "\n",
        "5. **Special Positions:**\n",
        "   - **Parallel to a plane:** Normal vectors are proportional.\n",
        "   - **Perpendicular to a plane:** Normal vectors are orthogonal.\n",
        "\n",
        "6. **Angle Between Two Planes:**\n",
        "   \\[ \\cos\\theta = \\frac{|\\vec{n_1} \\cdot \\vec{n_2}|}{\\|\\vec{n_1}\\|\\|\\vec{n_2}\\|} \\]\n",
        "\n",
        "7. **Conditions for Parallelism and Perpendicularity:**\n",
        "   - Parallel: \\( \\vec{n_1} \\parallel \\vec{n_2} \\)\n",
        "   - Perpendicular: \\( \\vec{n_1} \\cdot \\vec{n_2} = 0 \\)\n",
        "\n",
        "8. **Relative Position of Line and Plane:**\n",
        "   - **Line lies on the plane:** Line equation satisfies plane equation.\n",
        "   - **Line is parallel to the plane:** Direction vector orthogonal to normal vector.\n",
        "   - **Line intersects plane:** Substitution gives a point.\n",
        "\n",
        "9. **Relative Position of Two Lines:**\n",
        "   - Skew, parallel, or intersecting.\n",
        "\n",
        "10. **Angle Between Line and Plane:**\n",
        "    \\[ \\sin\\theta = \\frac{|\\vec{d} \\cdot \\vec{n}|}{\\|\\vec{d}\\|\\|\\vec{n}\\|} \\]\n",
        "\n",
        "---\n",
        "\n",
        "#### **Second-Order Curves**\n",
        "1. **Canonical Equations:**\n",
        "   - **Circle:** \\( (x - h)^2 + (y - k)^2 = r^2 \\)\n",
        "   - **Ellipse:** \\( \\frac{(x - h)^2}{a^2} + \\frac{(y - k)^2}{b^2} = 1 \\)\n",
        "   - **Hyperbola:** \\( \\frac{(x - h)^2}{a^2} - \\frac{(y - k)^2}{b^2} = 1 \\)\n",
        "   - **Parabola:** \\( y - k = 4p(x - h)^2 \\) or \\( x - h = 4p(y - k)^2 \\)\n",
        "\n",
        "2. **Shifted Center:**\n",
        "   - Center \\( (h, k) \\): Substitute \\( x \\to x - h, y \\to y - k \\).\n",
        "\n",
        "3. **Reduction to Canonical Form:**\n",
        "   - Complete the square for \\( x \\) and \\( y \\) terms.\n",
        "\n",
        "---\n",
        "\n",
        "#### **Second-Order Surfaces**\n",
        "1. **General Equations:**\n",
        "   - **Sphere:** \\( (x - h)^2 + (y - k)^2 + (z - l)^2 = r^2 \\)\n",
        "   - **Ellipsoid:** \\( \\frac{(x - h)^2}{a^2} + \\frac{(y - k)^2}{b^2} + \\frac{(z - l)^2}{c^2} = 1 \\)\n",
        "   - **Hyperboloid of One Sheet:** \\( \\frac{x^2}{a^2} + \\frac{y^2}{b^2} - \\frac{z^2}{c^2} = 1 \\)\n",
        "   - **Hyperboloid of Two Sheets:** \\( \\frac{z^2}{c^2} - \\frac{x^2}{a^2} - \\frac{y^2}{b^2} = 1 \\)\n",
        "\n",
        "2. **Rotational Surfaces:**\n",
        "   - Generated by rotating a curve (e.g., parabola, circle) about an axis.\n",
        "\n",
        "---\n",
        "\n",
        "These notes cover the key concepts and formulas necessary for understanding analytical geometry topics!"
      ],
      "metadata": {
        "id": "_QkURFplT7jp"
      }
    },
    {
      "cell_type": "markdown",
      "source": [
        "nb"
      ],
      "metadata": {
        "id": "8kOp4ps_T08-"
      }
    },
    {
      "cell_type": "markdown",
      "source": [],
      "metadata": {
        "id": "YBha9MC0howb"
      }
    },
    {
      "cell_type": "code",
      "execution_count": null,
      "metadata": {
        "colab": {
          "base_uri": "https://localhost:8080/"
        },
        "id": "-IWVfobGgyjY",
        "outputId": "efec93f1-b0ca-47ae-c69b-df9b6f27e33d"
      },
      "outputs": [
        {
          "output_type": "execute_result",
          "data": {
            "text/plain": [
              "5"
            ]
          },
          "metadata": {},
          "execution_count": 1
        }
      ],
      "source": []
    },
    {
      "cell_type": "markdown",
      "source": [
        "# Exercies copied from github markdowns!\n",
        "\n",
        "(that are no openable in colab!) We like everything in one place, so visit your github directly in browser and just enter edit and copy markdown code."
      ],
      "metadata": {
        "id": "6-kVkPFog8NZ"
      }
    },
    {
      "cell_type": "markdown",
      "source": [
        "# Solutions\n",
        "\n",
        "Text..."
      ],
      "metadata": {
        "id": "3wgcdwT5hFQH"
      }
    },
    {
      "cell_type": "code",
      "source": [],
      "metadata": {
        "id": "LqItIWt0g7mb"
      },
      "execution_count": null,
      "outputs": []
    }
  ]
}